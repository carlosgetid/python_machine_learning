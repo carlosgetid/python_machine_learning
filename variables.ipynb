{
  "nbformat": 4,
  "nbformat_minor": 0,
  "metadata": {
    "colab": {
      "provenance": [],
      "authorship_tag": "ABX9TyMfxW0rzluzRjhX1ayFBssl",
      "include_colab_link": true
    },
    "kernelspec": {
      "name": "python3",
      "display_name": "Python 3"
    },
    "language_info": {
      "name": "python"
    }
  },
  "cells": [
    {
      "cell_type": "markdown",
      "metadata": {
        "id": "view-in-github",
        "colab_type": "text"
      },
      "source": [
        "<a href=\"https://colab.research.google.com/github/carlosgetid/python_machine_learning/blob/main/Copy_of_S1.ipynb\" target=\"_parent\"><img src=\"https://colab.research.google.com/assets/colab-badge.svg\" alt=\"Open In Colab\"/></a>"
      ]
    },
    {
      "cell_type": "markdown",
      "source": [
        "# First week with python - UPC"
      ],
      "metadata": {
        "id": "6hOQrVnAhV6Y"
      }
    },
    {
      "cell_type": "code",
      "execution_count": null,
      "metadata": {
        "id": "mOYtuUFJ-Oei",
        "outputId": "cda42e00-d515-4a04-e6fe-61908e3b908e",
        "colab": {
          "base_uri": "https://localhost:8080/"
        }
      },
      "outputs": [
        {
          "output_type": "stream",
          "name": "stdout",
          "text": [
            "Hello World\n"
          ]
        }
      ],
      "source": [
        "### Comment in python\n",
        "\n",
        "print(\"Hello World\")"
      ]
    },
    {
      "cell_type": "code",
      "source": [
        "print(type(\"Hello World\"))"
      ],
      "metadata": {
        "id": "DJCOHmAAiclC",
        "outputId": "82274158-446d-4f22-c4f8-bc895274d993",
        "colab": {
          "base_uri": "https://localhost:8080/"
        }
      },
      "execution_count": null,
      "outputs": [
        {
          "output_type": "stream",
          "name": "stdout",
          "text": [
            "<class 'str'>\n"
          ]
        }
      ]
    },
    {
      "cell_type": "code",
      "source": [
        "### Strings\n",
        "\n",
        "print(\"Let's talk\")\n",
        "print('''She said: \"Let's talk\"''')"
      ],
      "metadata": {
        "id": "hFityoVpihUx",
        "outputId": "84b43b24-cb3c-498f-82ba-ff4622be0a84",
        "colab": {
          "base_uri": "https://localhost:8080/"
        }
      },
      "execution_count": null,
      "outputs": [
        {
          "output_type": "stream",
          "name": "stdout",
          "text": [
            "Let's talk\n",
            "She said: \"Let's talk\"\n",
            "<class 'int'>\n",
            "<class 'float'>\n",
            "<class 'complex'>\n"
          ]
        }
      ]
    },
    {
      "cell_type": "code",
      "source": [
        "### Numbers\n",
        "\n",
        "print(type(1))\n",
        "print(type(1.0))\n",
        "new_var = 1+2j\n",
        "print(type(new_var))\n",
        "print(new_var.real)\n",
        "print(new_var.imag)"
      ],
      "metadata": {
        "id": "GftHZDpSj9TT",
        "outputId": "b2f19dec-c6a8-4a51-e66b-77a1397de461",
        "colab": {
          "base_uri": "https://localhost:8080/"
        }
      },
      "execution_count": null,
      "outputs": [
        {
          "output_type": "stream",
          "name": "stdout",
          "text": [
            "<class 'int'>\n",
            "<class 'float'>\n",
            "<class 'complex'>\n",
            "1.0\n",
            "2.0\n"
          ]
        }
      ]
    },
    {
      "cell_type": "code",
      "source": [
        "### Number operations\n",
        "\n",
        "print(2+2)\n",
        "print(2-2)\n",
        "print(2*2)\n",
        "print(25/3)\n",
        "print(5**2)\n",
        "print(25//3)\n",
        "print(8%3)"
      ],
      "metadata": {
        "id": "nmKViVJckGUr",
        "outputId": "e7c4c888-2297-4066-8414-53af35933d8f",
        "colab": {
          "base_uri": "https://localhost:8080/"
        }
      },
      "execution_count": null,
      "outputs": [
        {
          "output_type": "stream",
          "name": "stdout",
          "text": [
            "4\n",
            "0\n",
            "4\n",
            "8.333333333333334\n",
            "25\n",
            "8\n",
            "2\n"
          ]
        }
      ]
    },
    {
      "cell_type": "code",
      "source": [
        "### Booleans\n",
        "\n",
        "print(1==4)\n",
        "print(1==1)\n",
        "print(1!=1)\n",
        "print(type(1==4))"
      ],
      "metadata": {
        "id": "heoN3Zlvl0rk",
        "outputId": "834387f9-235d-4779-f70d-fb6335e33219",
        "colab": {
          "base_uri": "https://localhost:8080/"
        }
      },
      "execution_count": null,
      "outputs": [
        {
          "output_type": "stream",
          "name": "stdout",
          "text": [
            "False\n",
            "True\n",
            "False\n",
            "<class 'bool'>\n"
          ]
        }
      ]
    },
    {
      "cell_type": "code",
      "source": [
        "### Defining variables\n",
        "\n",
        "a = 1==4\n",
        "b = 1==1\n",
        "c = 4\n",
        "print(a)\n",
        "print(b)\n",
        "print(c)\n",
        "print(type(c))\n",
        "\n",
        "d = a + 0\n",
        "print(d)\n",
        "\n",
        "e = b + 50\n",
        "print(e)"
      ],
      "metadata": {
        "id": "8WmD2sq4l5NV",
        "outputId": "09b17660-fb9c-4935-ce2b-238676487a82",
        "colab": {
          "base_uri": "https://localhost:8080/"
        }
      },
      "execution_count": null,
      "outputs": [
        {
          "output_type": "stream",
          "name": "stdout",
          "text": [
            "False\n",
            "True\n",
            "4\n",
            "<class 'int'>\n",
            "0\n",
            "51\n"
          ]
        }
      ]
    },
    {
      "cell_type": "code",
      "source": [
        "a = 1==1\n",
        "\n",
        "print(50 * a)"
      ],
      "metadata": {
        "id": "HzA12tbumzdM",
        "outputId": "d1609784-c024-4538-ee99-b4357d9c76f8",
        "colab": {
          "base_uri": "https://localhost:8080/"
        }
      },
      "execution_count": null,
      "outputs": [
        {
          "output_type": "stream",
          "name": "stdout",
          "text": [
            "0\n"
          ]
        }
      ]
    },
    {
      "cell_type": "code",
      "source": [
        "### Data structures\n",
        "\n",
        "a = [1, True, \"Hello\", 7.8]\n",
        "print(type(a))\n",
        "print(a)\n",
        "print(a[0])\n",
        "print(a[1])\n",
        "print(a[2])\n",
        "print(a[3])\n",
        "\n",
        "b = [1, True, \"Hello\", 7.8, [10]]\n",
        "print(type(b))\n",
        "print(b)\n",
        "print(b[0])\n",
        "print(b[1])\n",
        "print(b[2])\n",
        "print(b[3])\n",
        "print(b[4])\n",
        "print(b[0:3])\n",
        "print(b[4][0])\n",
        "print(b[-1])"
      ],
      "metadata": {
        "id": "VERdEYlFnrHf",
        "outputId": "d9a8b869-725b-4879-cd96-3cd7a56e6b16",
        "colab": {
          "base_uri": "https://localhost:8080/"
        }
      },
      "execution_count": null,
      "outputs": [
        {
          "output_type": "stream",
          "name": "stdout",
          "text": [
            "<class 'list'>\n",
            "[1, True, 'Hello', 7.8]\n",
            "1\n",
            "True\n",
            "Hello\n",
            "7.8\n",
            "<class 'list'>\n",
            "[1, True, 'Hello', 7.8, [10]]\n",
            "1\n",
            "True\n",
            "Hello\n",
            "7.8\n",
            "[10]\n",
            "[1, True, 'Hello']\n",
            "10\n",
            "[10]\n"
          ]
        }
      ]
    },
    {
      "cell_type": "code",
      "source": [
        "### List functions\n",
        "\n",
        "a = 10\n",
        "even = [0, 2, 4, 6, 8]\n",
        "odd = [1, 3, 5, 7, 9]\n",
        "print(a in even)\n",
        "print(a in odd)\n",
        "print(a not in even)\n",
        "print(a not in odd)\n",
        "\n",
        "even = even + [a]\n",
        "print(even)\n",
        "\n",
        "even = [0, 2, 4, 6, 8, a]\n",
        "print(even)\n",
        "\n",
        "even.append(12)\n",
        "print(even)"
      ],
      "metadata": {
        "id": "X2yYjlA_o7LS",
        "outputId": "f6a3c0d5-5422-44f9-90b9-735dbec2644b",
        "colab": {
          "base_uri": "https://localhost:8080/"
        }
      },
      "execution_count": null,
      "outputs": [
        {
          "output_type": "stream",
          "name": "stdout",
          "text": [
            "False\n",
            "False\n",
            "True\n",
            "True\n",
            "[0, 2, 4, 6, 8, 10]\n",
            "[0, 2, 4, 6, 8, 10]\n",
            "[0, 2, 4, 6, 8, 10, 12]\n"
          ]
        }
      ]
    },
    {
      "cell_type": "code",
      "source": [
        "### Insert data in a specific position\n",
        "\n",
        "value = 6\n",
        "\n",
        "even = [0, 2, 4, 8]\n",
        "index = 2\n",
        "even.insert(index, value)\n",
        "print(even)"
      ],
      "metadata": {
        "id": "LuPWPEKBqHwh",
        "outputId": "8f8509c2-1384-45b0-f56b-4cf68132c9aa",
        "colab": {
          "base_uri": "https://localhost:8080/"
        }
      },
      "execution_count": null,
      "outputs": [
        {
          "output_type": "stream",
          "name": "stdout",
          "text": [
            "[0, 2, 6, 4, 8]\n"
          ]
        }
      ]
    },
    {
      "cell_type": "code",
      "source": [
        "### Remove\n",
        "\n",
        "even = [0, 2, 3, 4, 6, 8]\n",
        "even.remove(3)\n",
        "print(even)"
      ],
      "metadata": {
        "id": "ede3mm8Qqc3v",
        "outputId": "8eff9caf-8eaa-4d6c-9af8-0d449326786b",
        "colab": {
          "base_uri": "https://localhost:8080/"
        }
      },
      "execution_count": null,
      "outputs": [
        {
          "output_type": "stream",
          "name": "stdout",
          "text": [
            "[0, 2, 4, 6, 8]\n"
          ]
        }
      ]
    },
    {
      "cell_type": "code",
      "source": [
        "### Remove by index\n",
        "\n",
        "even = [0, 2, 3, 4, 6, 8]\n",
        "even.pop(2)\n",
        "print(even)"
      ],
      "metadata": {
        "id": "nqpNfIVQqmBv",
        "outputId": "0a134341-1947-48d9-8771-4c34851dc732",
        "colab": {
          "base_uri": "https://localhost:8080/"
        }
      },
      "execution_count": null,
      "outputs": [
        {
          "output_type": "stream",
          "name": "stdout",
          "text": [
            "[0, 2, 4, 6, 8]\n"
          ]
        }
      ]
    },
    {
      "cell_type": "code",
      "source": [
        "### Update\n",
        "\n",
        "even = [0, 2, 3, 4, 5, 8]\n",
        "even[4] = 6\n",
        "print(even)"
      ],
      "metadata": {
        "id": "rvPZt-naqz_Y",
        "outputId": "6f07d123-62c4-4ed9-c18a-ceac50da57a4",
        "colab": {
          "base_uri": "https://localhost:8080/"
        }
      },
      "execution_count": null,
      "outputs": [
        {
          "output_type": "stream",
          "name": "stdout",
          "text": [
            "[0, 2, 3, 4, 6, 8]\n"
          ]
        }
      ]
    },
    {
      "cell_type": "code",
      "source": [
        "even = [0, 2, 3, 4, 5, 8]\n",
        "even[4:6] = [6, 7]\n",
        "print(even)\n",
        "\n",
        "print(len(even))"
      ],
      "metadata": {
        "id": "Ig0rdGGCq_2h",
        "outputId": "1f3b480a-36d3-466c-c432-0ebf5de2808e",
        "colab": {
          "base_uri": "https://localhost:8080/"
        }
      },
      "execution_count": null,
      "outputs": [
        {
          "output_type": "stream",
          "name": "stdout",
          "text": [
            "[0, 2, 3, 4, 6, 7]\n",
            "6\n"
          ]
        }
      ]
    },
    {
      "cell_type": "code",
      "source": [
        "### Tuples\n",
        "\n",
        "a = (1, True, \"Hello\", 7.8)\n",
        "print(type(a))\n",
        "print(a)\n",
        "print(a[0])\n",
        "print(a[1])\n",
        "print(a[2])\n",
        "print(a[3])\n",
        "\n",
        "### Tuples is not editable\n",
        "\n",
        "# a[0] = 10"
      ],
      "metadata": {
        "id": "oJ8cro0lrTdP",
        "outputId": "0b916f78-65e6-453c-bcdf-47ef8ce0fc14",
        "colab": {
          "base_uri": "https://localhost:8080/"
        }
      },
      "execution_count": null,
      "outputs": [
        {
          "output_type": "stream",
          "name": "stdout",
          "text": [
            "<class 'tuple'>\n",
            "(1, True, 'Hello', 7.8)\n",
            "1\n",
            "True\n",
            "Hello\n",
            "7.8\n"
          ]
        }
      ]
    },
    {
      "cell_type": "code",
      "source": [
        "a, b = 1, 3\n",
        "print(a)\n",
        "print(b)"
      ],
      "metadata": {
        "id": "MNe8zSnNtk3a",
        "outputId": "07268559-7695-455a-8577-42223d617b8b",
        "colab": {
          "base_uri": "https://localhost:8080/"
        }
      },
      "execution_count": null,
      "outputs": [
        {
          "output_type": "stream",
          "name": "stdout",
          "text": [
            "1\n",
            "3\n"
          ]
        }
      ]
    },
    {
      "cell_type": "code",
      "source": [
        "a = 1,3,5\n",
        "print(type(a))\n",
        "print(a)"
      ],
      "metadata": {
        "id": "msvKbeLhtoj7",
        "outputId": "a5d83727-cee8-419c-bcc4-34ee462ce873",
        "colab": {
          "base_uri": "https://localhost:8080/"
        }
      },
      "execution_count": null,
      "outputs": [
        {
          "output_type": "stream",
          "name": "stdout",
          "text": [
            "<class 'tuple'>\n",
            "(1, 3, 5)\n"
          ]
        }
      ]
    },
    {
      "cell_type": "code",
      "source": [
        "### Sets\n",
        "\n",
        "a = {2, 2, 2, 2, 2, 4, 4, 4, 5, 5, 7}\n",
        "print(type(a))\n",
        "print(a)\n",
        "\n",
        "b = {1, 2, 3, 4, 5}\n",
        "print(type(b))\n",
        "print(b)\n",
        "\n",
        "print(a & b) # Intersection\n",
        "print(a | b)  # Union\n",
        "print(a - b)  # Difference\n",
        "print(a ^ b)  # Symmetric difference"
      ],
      "metadata": {
        "id": "bnztBkEitx0y",
        "outputId": "ad6a0a34-9f87-4888-b159-6e5883a2eb10",
        "colab": {
          "base_uri": "https://localhost:8080/"
        }
      },
      "execution_count": null,
      "outputs": [
        {
          "output_type": "stream",
          "name": "stdout",
          "text": [
            "<class 'set'>\n",
            "{2, 4, 5, 7}\n",
            "<class 'set'>\n",
            "{1, 2, 3, 4, 5}\n",
            "{2, 4, 5}\n",
            "{1, 2, 3, 4, 5, 7}\n",
            "{7}\n",
            "{1, 3, 7}\n"
          ]
        }
      ]
    },
    {
      "cell_type": "code",
      "source": [
        "### Dictionaries\n",
        "\n",
        "peruvian_menu = {'entry': ['ceviche', 'sopa', 'causa'],\n",
        "        'main':['lomo saltado', 'aji de gallina', 'arroz con pollo'],\n",
        "                 'dessert': 'arroz con leche',\n",
        "                 'price': 18.50,\n",
        "                 'discount': False}\n",
        "print(type(peruvian_menu))\n",
        "print(peruvian_menu)\n",
        "print(peruvian_menu['entry'])\n",
        "print(peruvian_menu['main'])\n",
        "print(peruvian_menu['dessert'])\n",
        "print(peruvian_menu['entry'][0])\n",
        "print(peruvian_menu['main'][1])\n",
        "print(peruvian_menu['dessert'])\n",
        "print(peruvian_menu['price'])\n",
        "print(peruvian_menu['discount'])\n",
        "print(peruvian_menu.keys())\n",
        "print(peruvian_menu.values())\n",
        "print(peruvian_menu.items())\n",
        "peruvian_menu['discount'] = True\n",
        "print(peruvian_menu)\n",
        "peruvian_menu['discount_percentage'] = 0.2\n",
        "print(peruvian_menu)"
      ],
      "metadata": {
        "id": "17VGhFxQujX5",
        "outputId": "8bc1f1a5-9ab3-41ca-ab6c-edeba8989fbf",
        "colab": {
          "base_uri": "https://localhost:8080/"
        }
      },
      "execution_count": null,
      "outputs": [
        {
          "output_type": "stream",
          "name": "stdout",
          "text": [
            "<class 'dict'>\n",
            "{'entry': ['ceviche', 'sopa', 'causa'], 'main': ['lomo saltado', 'aji de gallina', 'arroz con pollo'], 'dessert': 'arroz con leche', 'price': 18.5, 'discount': False}\n",
            "['ceviche', 'sopa', 'causa']\n",
            "['lomo saltado', 'aji de gallina', 'arroz con pollo']\n",
            "arroz con leche\n",
            "ceviche\n",
            "aji de gallina\n",
            "arroz con leche\n",
            "18.5\n",
            "False\n",
            "dict_keys(['entry', 'main', 'dessert', 'price', 'discount'])\n",
            "dict_values([['ceviche', 'sopa', 'causa'], ['lomo saltado', 'aji de gallina', 'arroz con pollo'], 'arroz con leche', 18.5, False])\n",
            "dict_items([('entry', ['ceviche', 'sopa', 'causa']), ('main', ['lomo saltado', 'aji de gallina', 'arroz con pollo']), ('dessert', 'arroz con leche'), ('price', 18.5), ('discount', False)])\n",
            "{'entry': ['ceviche', 'sopa', 'causa'], 'main': ['lomo saltado', 'aji de gallina', 'arroz con pollo'], 'dessert': 'arroz con leche', 'price': 18.5, 'discount': True}\n",
            "{'entry': ['ceviche', 'sopa', 'causa'], 'main': ['lomo saltado', 'aji de gallina', 'arroz con pollo'], 'dessert': 'arroz con leche', 'price': 18.5, 'discount': True, 'discount_percentage': 0.2}\n"
          ]
        }
      ]
    },
    {
      "cell_type": "code",
      "source": [
        "### Control structures\n",
        "\n",
        "### Conditional\n",
        "\n",
        "score = 12\n",
        "minimum_score = 12.5\n",
        "extra_points = True\n",
        "\n",
        "if score >= minimum_score:\n",
        "    print(\"You passed\")\n",
        "else:\n",
        "    print(\"You failed\")\n",
        "\n",
        "if score >= minimum_score:\n",
        "    print(\"You passed\")\n",
        "elif extra_points == True:\n",
        "    print(\"You passed with extra points\")\n",
        "else:\n",
        "    print(\"You failed\")"
      ],
      "metadata": {
        "id": "O0PJeHXWwu4W",
        "outputId": "3ea96cc0-2365-4266-8672-b6981430d394",
        "colab": {
          "base_uri": "https://localhost:8080/"
        }
      },
      "execution_count": null,
      "outputs": [
        {
          "output_type": "stream",
          "name": "stdout",
          "text": [
            "You failed\n",
            "You passed with extra points\n"
          ]
        }
      ]
    },
    {
      "cell_type": "code",
      "source": [
        "### Finite loop\n",
        "\n",
        "numbers = [1, 2, 3, 4, 5, 6, 7, 8, 9, 10]\n",
        "\n",
        "for number in numbers:\n",
        "    print(number)"
      ],
      "metadata": {
        "id": "rs3GbzPqxtBW",
        "outputId": "73c1674d-b9cd-41d9-9413-591eafce0628",
        "colab": {
          "base_uri": "https://localhost:8080/"
        }
      },
      "execution_count": null,
      "outputs": [
        {
          "output_type": "stream",
          "name": "stdout",
          "text": [
            "1\n",
            "2\n",
            "3\n",
            "4\n",
            "5\n",
            "6\n",
            "7\n",
            "8\n",
            "9\n",
            "10\n"
          ]
        }
      ]
    },
    {
      "cell_type": "code",
      "source": [
        "for number in range(1, 101):\n",
        "    print(number)"
      ],
      "metadata": {
        "id": "K0DNpR2Bx857",
        "outputId": "c5cf2a5a-41ab-4516-abbf-0e2ffcb755b4",
        "colab": {
          "base_uri": "https://localhost:8080/"
        }
      },
      "execution_count": null,
      "outputs": [
        {
          "output_type": "stream",
          "name": "stdout",
          "text": [
            "1\n",
            "2\n",
            "3\n",
            "4\n",
            "5\n",
            "6\n",
            "7\n",
            "8\n",
            "9\n",
            "10\n",
            "11\n",
            "12\n",
            "13\n",
            "14\n",
            "15\n",
            "16\n",
            "17\n",
            "18\n",
            "19\n",
            "20\n",
            "21\n",
            "22\n",
            "23\n",
            "24\n",
            "25\n",
            "26\n",
            "27\n",
            "28\n",
            "29\n",
            "30\n",
            "31\n",
            "32\n",
            "33\n",
            "34\n",
            "35\n",
            "36\n",
            "37\n",
            "38\n",
            "39\n",
            "40\n",
            "41\n",
            "42\n",
            "43\n",
            "44\n",
            "45\n",
            "46\n",
            "47\n",
            "48\n",
            "49\n",
            "50\n",
            "51\n",
            "52\n",
            "53\n",
            "54\n",
            "55\n",
            "56\n",
            "57\n",
            "58\n",
            "59\n",
            "60\n",
            "61\n",
            "62\n",
            "63\n",
            "64\n",
            "65\n",
            "66\n",
            "67\n",
            "68\n",
            "69\n",
            "70\n",
            "71\n",
            "72\n",
            "73\n",
            "74\n",
            "75\n",
            "76\n",
            "77\n",
            "78\n",
            "79\n",
            "80\n",
            "81\n",
            "82\n",
            "83\n",
            "84\n",
            "85\n",
            "86\n",
            "87\n",
            "88\n",
            "89\n",
            "90\n",
            "91\n",
            "92\n",
            "93\n",
            "94\n",
            "95\n",
            "96\n",
            "97\n",
            "98\n",
            "99\n",
            "100\n"
          ]
        }
      ]
    },
    {
      "cell_type": "code",
      "source": [
        "numbers = [1, 2, 3, 4, 5, 6, 7, 8, 9, 10]\n",
        "evens = []\n",
        "odds = []\n",
        "\n",
        "for i in numbers:\n",
        "    if i % 2 == 0:\n",
        "        evens.append(i)\n",
        "    elif i % 2 == 1:\n",
        "        odds.append(i)\n",
        "\n",
        "print(evens)\n",
        "print(odds)"
      ],
      "metadata": {
        "id": "YkEXAAmqyGzY",
        "outputId": "966641de-0368-4325-c0dc-34fea2c0976b",
        "colab": {
          "base_uri": "https://localhost:8080/"
        }
      },
      "execution_count": null,
      "outputs": [
        {
          "output_type": "stream",
          "name": "stdout",
          "text": [
            "[2, 4, 6, 8, 10]\n",
            "[1, 3, 5, 7, 9]\n"
          ]
        }
      ]
    },
    {
      "cell_type": "code",
      "source": [
        "### Infinite loop\n",
        "\n",
        "a = 10\n",
        "b = 14\n",
        "\n",
        "while a < b:\n",
        "    print('UPC')\n",
        "    a += 1 # add this to make the loop finite"
      ],
      "metadata": {
        "id": "X4nBbnrdyioU",
        "outputId": "afb194a6-d0c7-4f8e-ec37-82eda0511835",
        "colab": {
          "base_uri": "https://localhost:8080/"
        }
      },
      "execution_count": null,
      "outputs": [
        {
          "output_type": "stream",
          "name": "stdout",
          "text": [
            "UPC\n",
            "UPC\n",
            "UPC\n",
            "UPC\n"
          ]
        }
      ]
    },
    {
      "cell_type": "code",
      "source": [
        "### File handling\n",
        "\n",
        "import pandas as pd\n",
        "\n",
        "\n",
        "url = 'https://raw.githubusercontent.com/carlosgetid/upc_a_datos_pc1/main/Spotify-2000.csv'\n",
        "\n",
        "data = pd.read_csv(url)\n",
        "\n",
        "data"
      ],
      "metadata": {
        "id": "9OVeq4BAzCOj",
        "outputId": "151c349f-218e-4c17-b1d4-7c9deff675a1",
        "colab": {
          "base_uri": "https://localhost:8080/",
          "height": 704
        }
      },
      "execution_count": null,
      "outputs": [
        {
          "output_type": "execute_result",
          "data": {
            "text/plain": [
              "      Index                   Title                    Artist  \\\n",
              "0         1                 Sunrise               Norah Jones   \n",
              "1         2             Black Night               Deep Purple   \n",
              "2         3          Clint Eastwood                  Gorillaz   \n",
              "3         4           The Pretender              Foo Fighters   \n",
              "4         5  Waitin' On A Sunny Day         Bruce Springsteen   \n",
              "...     ...                     ...                       ...   \n",
              "1989   1990        Heartbreak Hotel             Elvis Presley   \n",
              "1990   1991               Hound Dog             Elvis Presley   \n",
              "1991   1992         Johnny B. Goode               Chuck Berry   \n",
              "1992   1993               Take Five  The Dave Brubeck Quartet   \n",
              "1993   1994          Blueberry Hill               Fats Domino   \n",
              "\n",
              "                Top Genre  Year  Beats Per Minute (BPM)  Energy  Danceability  \\\n",
              "0         adult standards  2004                     157      30            53   \n",
              "1              album rock  2000                     135      79            50   \n",
              "2     alternative hip hop  2001                     168      69            66   \n",
              "3       alternative metal  2007                     173      96            43   \n",
              "4            classic rock  2002                     106      82            58   \n",
              "...                   ...   ...                     ...     ...           ...   \n",
              "1989      adult standards  1958                      94      21            70   \n",
              "1990      adult standards  1958                     175      76            36   \n",
              "1991           blues rock  1959                     168      80            53   \n",
              "1992                bebop  1959                     174      26            45   \n",
              "1993      adult standards  1959                     133      50            49   \n",
              "\n",
              "      Loudness (dB)  Liveness  Valence Length (Duration)  Acousticness  \\\n",
              "0               -14        11       68               201            94   \n",
              "1               -11        17       81               207            17   \n",
              "2                -9         7       52               341             2   \n",
              "3                -4         3       37               269             0   \n",
              "4                -5        10       87               256             1   \n",
              "...             ...       ...      ...               ...           ...   \n",
              "1989            -12        11       72               128            84   \n",
              "1990             -8        76       95               136            73   \n",
              "1991             -9        31       97               162            74   \n",
              "1992            -13         7       60               324            54   \n",
              "1993            -10        16       83               148            74   \n",
              "\n",
              "      Speechiness  Popularity  \n",
              "0               3          71  \n",
              "1               7          39  \n",
              "2              17          69  \n",
              "3               4          76  \n",
              "4               3          59  \n",
              "...           ...         ...  \n",
              "1989            7          63  \n",
              "1990            6          69  \n",
              "1991            7          74  \n",
              "1992            4          65  \n",
              "1993            3          56  \n",
              "\n",
              "[1994 rows x 15 columns]"
            ],
            "text/html": [
              "\n",
              "  <div id=\"df-7161e5d7-62a6-40f1-af22-0d3f78639134\" class=\"colab-df-container\">\n",
              "    <div>\n",
              "<style scoped>\n",
              "    .dataframe tbody tr th:only-of-type {\n",
              "        vertical-align: middle;\n",
              "    }\n",
              "\n",
              "    .dataframe tbody tr th {\n",
              "        vertical-align: top;\n",
              "    }\n",
              "\n",
              "    .dataframe thead th {\n",
              "        text-align: right;\n",
              "    }\n",
              "</style>\n",
              "<table border=\"1\" class=\"dataframe\">\n",
              "  <thead>\n",
              "    <tr style=\"text-align: right;\">\n",
              "      <th></th>\n",
              "      <th>Index</th>\n",
              "      <th>Title</th>\n",
              "      <th>Artist</th>\n",
              "      <th>Top Genre</th>\n",
              "      <th>Year</th>\n",
              "      <th>Beats Per Minute (BPM)</th>\n",
              "      <th>Energy</th>\n",
              "      <th>Danceability</th>\n",
              "      <th>Loudness (dB)</th>\n",
              "      <th>Liveness</th>\n",
              "      <th>Valence</th>\n",
              "      <th>Length (Duration)</th>\n",
              "      <th>Acousticness</th>\n",
              "      <th>Speechiness</th>\n",
              "      <th>Popularity</th>\n",
              "    </tr>\n",
              "  </thead>\n",
              "  <tbody>\n",
              "    <tr>\n",
              "      <th>0</th>\n",
              "      <td>1</td>\n",
              "      <td>Sunrise</td>\n",
              "      <td>Norah Jones</td>\n",
              "      <td>adult standards</td>\n",
              "      <td>2004</td>\n",
              "      <td>157</td>\n",
              "      <td>30</td>\n",
              "      <td>53</td>\n",
              "      <td>-14</td>\n",
              "      <td>11</td>\n",
              "      <td>68</td>\n",
              "      <td>201</td>\n",
              "      <td>94</td>\n",
              "      <td>3</td>\n",
              "      <td>71</td>\n",
              "    </tr>\n",
              "    <tr>\n",
              "      <th>1</th>\n",
              "      <td>2</td>\n",
              "      <td>Black Night</td>\n",
              "      <td>Deep Purple</td>\n",
              "      <td>album rock</td>\n",
              "      <td>2000</td>\n",
              "      <td>135</td>\n",
              "      <td>79</td>\n",
              "      <td>50</td>\n",
              "      <td>-11</td>\n",
              "      <td>17</td>\n",
              "      <td>81</td>\n",
              "      <td>207</td>\n",
              "      <td>17</td>\n",
              "      <td>7</td>\n",
              "      <td>39</td>\n",
              "    </tr>\n",
              "    <tr>\n",
              "      <th>2</th>\n",
              "      <td>3</td>\n",
              "      <td>Clint Eastwood</td>\n",
              "      <td>Gorillaz</td>\n",
              "      <td>alternative hip hop</td>\n",
              "      <td>2001</td>\n",
              "      <td>168</td>\n",
              "      <td>69</td>\n",
              "      <td>66</td>\n",
              "      <td>-9</td>\n",
              "      <td>7</td>\n",
              "      <td>52</td>\n",
              "      <td>341</td>\n",
              "      <td>2</td>\n",
              "      <td>17</td>\n",
              "      <td>69</td>\n",
              "    </tr>\n",
              "    <tr>\n",
              "      <th>3</th>\n",
              "      <td>4</td>\n",
              "      <td>The Pretender</td>\n",
              "      <td>Foo Fighters</td>\n",
              "      <td>alternative metal</td>\n",
              "      <td>2007</td>\n",
              "      <td>173</td>\n",
              "      <td>96</td>\n",
              "      <td>43</td>\n",
              "      <td>-4</td>\n",
              "      <td>3</td>\n",
              "      <td>37</td>\n",
              "      <td>269</td>\n",
              "      <td>0</td>\n",
              "      <td>4</td>\n",
              "      <td>76</td>\n",
              "    </tr>\n",
              "    <tr>\n",
              "      <th>4</th>\n",
              "      <td>5</td>\n",
              "      <td>Waitin' On A Sunny Day</td>\n",
              "      <td>Bruce Springsteen</td>\n",
              "      <td>classic rock</td>\n",
              "      <td>2002</td>\n",
              "      <td>106</td>\n",
              "      <td>82</td>\n",
              "      <td>58</td>\n",
              "      <td>-5</td>\n",
              "      <td>10</td>\n",
              "      <td>87</td>\n",
              "      <td>256</td>\n",
              "      <td>1</td>\n",
              "      <td>3</td>\n",
              "      <td>59</td>\n",
              "    </tr>\n",
              "    <tr>\n",
              "      <th>...</th>\n",
              "      <td>...</td>\n",
              "      <td>...</td>\n",
              "      <td>...</td>\n",
              "      <td>...</td>\n",
              "      <td>...</td>\n",
              "      <td>...</td>\n",
              "      <td>...</td>\n",
              "      <td>...</td>\n",
              "      <td>...</td>\n",
              "      <td>...</td>\n",
              "      <td>...</td>\n",
              "      <td>...</td>\n",
              "      <td>...</td>\n",
              "      <td>...</td>\n",
              "      <td>...</td>\n",
              "    </tr>\n",
              "    <tr>\n",
              "      <th>1989</th>\n",
              "      <td>1990</td>\n",
              "      <td>Heartbreak Hotel</td>\n",
              "      <td>Elvis Presley</td>\n",
              "      <td>adult standards</td>\n",
              "      <td>1958</td>\n",
              "      <td>94</td>\n",
              "      <td>21</td>\n",
              "      <td>70</td>\n",
              "      <td>-12</td>\n",
              "      <td>11</td>\n",
              "      <td>72</td>\n",
              "      <td>128</td>\n",
              "      <td>84</td>\n",
              "      <td>7</td>\n",
              "      <td>63</td>\n",
              "    </tr>\n",
              "    <tr>\n",
              "      <th>1990</th>\n",
              "      <td>1991</td>\n",
              "      <td>Hound Dog</td>\n",
              "      <td>Elvis Presley</td>\n",
              "      <td>adult standards</td>\n",
              "      <td>1958</td>\n",
              "      <td>175</td>\n",
              "      <td>76</td>\n",
              "      <td>36</td>\n",
              "      <td>-8</td>\n",
              "      <td>76</td>\n",
              "      <td>95</td>\n",
              "      <td>136</td>\n",
              "      <td>73</td>\n",
              "      <td>6</td>\n",
              "      <td>69</td>\n",
              "    </tr>\n",
              "    <tr>\n",
              "      <th>1991</th>\n",
              "      <td>1992</td>\n",
              "      <td>Johnny B. Goode</td>\n",
              "      <td>Chuck Berry</td>\n",
              "      <td>blues rock</td>\n",
              "      <td>1959</td>\n",
              "      <td>168</td>\n",
              "      <td>80</td>\n",
              "      <td>53</td>\n",
              "      <td>-9</td>\n",
              "      <td>31</td>\n",
              "      <td>97</td>\n",
              "      <td>162</td>\n",
              "      <td>74</td>\n",
              "      <td>7</td>\n",
              "      <td>74</td>\n",
              "    </tr>\n",
              "    <tr>\n",
              "      <th>1992</th>\n",
              "      <td>1993</td>\n",
              "      <td>Take Five</td>\n",
              "      <td>The Dave Brubeck Quartet</td>\n",
              "      <td>bebop</td>\n",
              "      <td>1959</td>\n",
              "      <td>174</td>\n",
              "      <td>26</td>\n",
              "      <td>45</td>\n",
              "      <td>-13</td>\n",
              "      <td>7</td>\n",
              "      <td>60</td>\n",
              "      <td>324</td>\n",
              "      <td>54</td>\n",
              "      <td>4</td>\n",
              "      <td>65</td>\n",
              "    </tr>\n",
              "    <tr>\n",
              "      <th>1993</th>\n",
              "      <td>1994</td>\n",
              "      <td>Blueberry Hill</td>\n",
              "      <td>Fats Domino</td>\n",
              "      <td>adult standards</td>\n",
              "      <td>1959</td>\n",
              "      <td>133</td>\n",
              "      <td>50</td>\n",
              "      <td>49</td>\n",
              "      <td>-10</td>\n",
              "      <td>16</td>\n",
              "      <td>83</td>\n",
              "      <td>148</td>\n",
              "      <td>74</td>\n",
              "      <td>3</td>\n",
              "      <td>56</td>\n",
              "    </tr>\n",
              "  </tbody>\n",
              "</table>\n",
              "<p>1994 rows × 15 columns</p>\n",
              "</div>\n",
              "    <div class=\"colab-df-buttons\">\n",
              "\n",
              "  <div class=\"colab-df-container\">\n",
              "    <button class=\"colab-df-convert\" onclick=\"convertToInteractive('df-7161e5d7-62a6-40f1-af22-0d3f78639134')\"\n",
              "            title=\"Convert this dataframe to an interactive table.\"\n",
              "            style=\"display:none;\">\n",
              "\n",
              "  <svg xmlns=\"http://www.w3.org/2000/svg\" height=\"24px\" viewBox=\"0 -960 960 960\">\n",
              "    <path d=\"M120-120v-720h720v720H120Zm60-500h600v-160H180v160Zm220 220h160v-160H400v160Zm0 220h160v-160H400v160ZM180-400h160v-160H180v160Zm440 0h160v-160H620v160ZM180-180h160v-160H180v160Zm440 0h160v-160H620v160Z\"/>\n",
              "  </svg>\n",
              "    </button>\n",
              "\n",
              "  <style>\n",
              "    .colab-df-container {\n",
              "      display:flex;\n",
              "      gap: 12px;\n",
              "    }\n",
              "\n",
              "    .colab-df-convert {\n",
              "      background-color: #E8F0FE;\n",
              "      border: none;\n",
              "      border-radius: 50%;\n",
              "      cursor: pointer;\n",
              "      display: none;\n",
              "      fill: #1967D2;\n",
              "      height: 32px;\n",
              "      padding: 0 0 0 0;\n",
              "      width: 32px;\n",
              "    }\n",
              "\n",
              "    .colab-df-convert:hover {\n",
              "      background-color: #E2EBFA;\n",
              "      box-shadow: 0px 1px 2px rgba(60, 64, 67, 0.3), 0px 1px 3px 1px rgba(60, 64, 67, 0.15);\n",
              "      fill: #174EA6;\n",
              "    }\n",
              "\n",
              "    .colab-df-buttons div {\n",
              "      margin-bottom: 4px;\n",
              "    }\n",
              "\n",
              "    [theme=dark] .colab-df-convert {\n",
              "      background-color: #3B4455;\n",
              "      fill: #D2E3FC;\n",
              "    }\n",
              "\n",
              "    [theme=dark] .colab-df-convert:hover {\n",
              "      background-color: #434B5C;\n",
              "      box-shadow: 0px 1px 3px 1px rgba(0, 0, 0, 0.15);\n",
              "      filter: drop-shadow(0px 1px 2px rgba(0, 0, 0, 0.3));\n",
              "      fill: #FFFFFF;\n",
              "    }\n",
              "  </style>\n",
              "\n",
              "    <script>\n",
              "      const buttonEl =\n",
              "        document.querySelector('#df-7161e5d7-62a6-40f1-af22-0d3f78639134 button.colab-df-convert');\n",
              "      buttonEl.style.display =\n",
              "        google.colab.kernel.accessAllowed ? 'block' : 'none';\n",
              "\n",
              "      async function convertToInteractive(key) {\n",
              "        const element = document.querySelector('#df-7161e5d7-62a6-40f1-af22-0d3f78639134');\n",
              "        const dataTable =\n",
              "          await google.colab.kernel.invokeFunction('convertToInteractive',\n",
              "                                                    [key], {});\n",
              "        if (!dataTable) return;\n",
              "\n",
              "        const docLinkHtml = 'Like what you see? Visit the ' +\n",
              "          '<a target=\"_blank\" href=https://colab.research.google.com/notebooks/data_table.ipynb>data table notebook</a>'\n",
              "          + ' to learn more about interactive tables.';\n",
              "        element.innerHTML = '';\n",
              "        dataTable['output_type'] = 'display_data';\n",
              "        await google.colab.output.renderOutput(dataTable, element);\n",
              "        const docLink = document.createElement('div');\n",
              "        docLink.innerHTML = docLinkHtml;\n",
              "        element.appendChild(docLink);\n",
              "      }\n",
              "    </script>\n",
              "  </div>\n",
              "\n",
              "\n",
              "<div id=\"df-8e2edeb0-e023-43c3-8f0c-63e54a79ef9a\">\n",
              "  <button class=\"colab-df-quickchart\" onclick=\"quickchart('df-8e2edeb0-e023-43c3-8f0c-63e54a79ef9a')\"\n",
              "            title=\"Suggest charts\"\n",
              "            style=\"display:none;\">\n",
              "\n",
              "<svg xmlns=\"http://www.w3.org/2000/svg\" height=\"24px\"viewBox=\"0 0 24 24\"\n",
              "     width=\"24px\">\n",
              "    <g>\n",
              "        <path d=\"M19 3H5c-1.1 0-2 .9-2 2v14c0 1.1.9 2 2 2h14c1.1 0 2-.9 2-2V5c0-1.1-.9-2-2-2zM9 17H7v-7h2v7zm4 0h-2V7h2v10zm4 0h-2v-4h2v4z\"/>\n",
              "    </g>\n",
              "</svg>\n",
              "  </button>\n",
              "\n",
              "<style>\n",
              "  .colab-df-quickchart {\n",
              "      --bg-color: #E8F0FE;\n",
              "      --fill-color: #1967D2;\n",
              "      --hover-bg-color: #E2EBFA;\n",
              "      --hover-fill-color: #174EA6;\n",
              "      --disabled-fill-color: #AAA;\n",
              "      --disabled-bg-color: #DDD;\n",
              "  }\n",
              "\n",
              "  [theme=dark] .colab-df-quickchart {\n",
              "      --bg-color: #3B4455;\n",
              "      --fill-color: #D2E3FC;\n",
              "      --hover-bg-color: #434B5C;\n",
              "      --hover-fill-color: #FFFFFF;\n",
              "      --disabled-bg-color: #3B4455;\n",
              "      --disabled-fill-color: #666;\n",
              "  }\n",
              "\n",
              "  .colab-df-quickchart {\n",
              "    background-color: var(--bg-color);\n",
              "    border: none;\n",
              "    border-radius: 50%;\n",
              "    cursor: pointer;\n",
              "    display: none;\n",
              "    fill: var(--fill-color);\n",
              "    height: 32px;\n",
              "    padding: 0;\n",
              "    width: 32px;\n",
              "  }\n",
              "\n",
              "  .colab-df-quickchart:hover {\n",
              "    background-color: var(--hover-bg-color);\n",
              "    box-shadow: 0 1px 2px rgba(60, 64, 67, 0.3), 0 1px 3px 1px rgba(60, 64, 67, 0.15);\n",
              "    fill: var(--button-hover-fill-color);\n",
              "  }\n",
              "\n",
              "  .colab-df-quickchart-complete:disabled,\n",
              "  .colab-df-quickchart-complete:disabled:hover {\n",
              "    background-color: var(--disabled-bg-color);\n",
              "    fill: var(--disabled-fill-color);\n",
              "    box-shadow: none;\n",
              "  }\n",
              "\n",
              "  .colab-df-spinner {\n",
              "    border: 2px solid var(--fill-color);\n",
              "    border-color: transparent;\n",
              "    border-bottom-color: var(--fill-color);\n",
              "    animation:\n",
              "      spin 1s steps(1) infinite;\n",
              "  }\n",
              "\n",
              "  @keyframes spin {\n",
              "    0% {\n",
              "      border-color: transparent;\n",
              "      border-bottom-color: var(--fill-color);\n",
              "      border-left-color: var(--fill-color);\n",
              "    }\n",
              "    20% {\n",
              "      border-color: transparent;\n",
              "      border-left-color: var(--fill-color);\n",
              "      border-top-color: var(--fill-color);\n",
              "    }\n",
              "    30% {\n",
              "      border-color: transparent;\n",
              "      border-left-color: var(--fill-color);\n",
              "      border-top-color: var(--fill-color);\n",
              "      border-right-color: var(--fill-color);\n",
              "    }\n",
              "    40% {\n",
              "      border-color: transparent;\n",
              "      border-right-color: var(--fill-color);\n",
              "      border-top-color: var(--fill-color);\n",
              "    }\n",
              "    60% {\n",
              "      border-color: transparent;\n",
              "      border-right-color: var(--fill-color);\n",
              "    }\n",
              "    80% {\n",
              "      border-color: transparent;\n",
              "      border-right-color: var(--fill-color);\n",
              "      border-bottom-color: var(--fill-color);\n",
              "    }\n",
              "    90% {\n",
              "      border-color: transparent;\n",
              "      border-bottom-color: var(--fill-color);\n",
              "    }\n",
              "  }\n",
              "</style>\n",
              "\n",
              "  <script>\n",
              "    async function quickchart(key) {\n",
              "      const quickchartButtonEl =\n",
              "        document.querySelector('#' + key + ' button');\n",
              "      quickchartButtonEl.disabled = true;  // To prevent multiple clicks.\n",
              "      quickchartButtonEl.classList.add('colab-df-spinner');\n",
              "      try {\n",
              "        const charts = await google.colab.kernel.invokeFunction(\n",
              "            'suggestCharts', [key], {});\n",
              "      } catch (error) {\n",
              "        console.error('Error during call to suggestCharts:', error);\n",
              "      }\n",
              "      quickchartButtonEl.classList.remove('colab-df-spinner');\n",
              "      quickchartButtonEl.classList.add('colab-df-quickchart-complete');\n",
              "    }\n",
              "    (() => {\n",
              "      let quickchartButtonEl =\n",
              "        document.querySelector('#df-8e2edeb0-e023-43c3-8f0c-63e54a79ef9a button');\n",
              "      quickchartButtonEl.style.display =\n",
              "        google.colab.kernel.accessAllowed ? 'block' : 'none';\n",
              "    })();\n",
              "  </script>\n",
              "</div>\n",
              "\n",
              "  <div id=\"id_ba1ed84d-90e1-45ad-9f80-bce0b6fdc2e6\">\n",
              "    <style>\n",
              "      .colab-df-generate {\n",
              "        background-color: #E8F0FE;\n",
              "        border: none;\n",
              "        border-radius: 50%;\n",
              "        cursor: pointer;\n",
              "        display: none;\n",
              "        fill: #1967D2;\n",
              "        height: 32px;\n",
              "        padding: 0 0 0 0;\n",
              "        width: 32px;\n",
              "      }\n",
              "\n",
              "      .colab-df-generate:hover {\n",
              "        background-color: #E2EBFA;\n",
              "        box-shadow: 0px 1px 2px rgba(60, 64, 67, 0.3), 0px 1px 3px 1px rgba(60, 64, 67, 0.15);\n",
              "        fill: #174EA6;\n",
              "      }\n",
              "\n",
              "      [theme=dark] .colab-df-generate {\n",
              "        background-color: #3B4455;\n",
              "        fill: #D2E3FC;\n",
              "      }\n",
              "\n",
              "      [theme=dark] .colab-df-generate:hover {\n",
              "        background-color: #434B5C;\n",
              "        box-shadow: 0px 1px 3px 1px rgba(0, 0, 0, 0.15);\n",
              "        filter: drop-shadow(0px 1px 2px rgba(0, 0, 0, 0.3));\n",
              "        fill: #FFFFFF;\n",
              "      }\n",
              "    </style>\n",
              "    <button class=\"colab-df-generate\" onclick=\"generateWithVariable('data')\"\n",
              "            title=\"Generate code using this dataframe.\"\n",
              "            style=\"display:none;\">\n",
              "\n",
              "  <svg xmlns=\"http://www.w3.org/2000/svg\" height=\"24px\"viewBox=\"0 0 24 24\"\n",
              "       width=\"24px\">\n",
              "    <path d=\"M7,19H8.4L18.45,9,17,7.55,7,17.6ZM5,21V16.75L18.45,3.32a2,2,0,0,1,2.83,0l1.4,1.43a1.91,1.91,0,0,1,.58,1.4,1.91,1.91,0,0,1-.58,1.4L9.25,21ZM18.45,9,17,7.55Zm-12,3A5.31,5.31,0,0,0,4.9,8.1,5.31,5.31,0,0,0,1,6.5,5.31,5.31,0,0,0,4.9,4.9,5.31,5.31,0,0,0,6.5,1,5.31,5.31,0,0,0,8.1,4.9,5.31,5.31,0,0,0,12,6.5,5.46,5.46,0,0,0,6.5,12Z\"/>\n",
              "  </svg>\n",
              "    </button>\n",
              "    <script>\n",
              "      (() => {\n",
              "      const buttonEl =\n",
              "        document.querySelector('#id_ba1ed84d-90e1-45ad-9f80-bce0b6fdc2e6 button.colab-df-generate');\n",
              "      buttonEl.style.display =\n",
              "        google.colab.kernel.accessAllowed ? 'block' : 'none';\n",
              "\n",
              "      buttonEl.onclick = () => {\n",
              "        google.colab.notebook.generateWithVariable('data');\n",
              "      }\n",
              "      })();\n",
              "    </script>\n",
              "  </div>\n",
              "\n",
              "    </div>\n",
              "  </div>\n"
            ],
            "application/vnd.google.colaboratory.intrinsic+json": {
              "type": "dataframe",
              "variable_name": "data",
              "summary": "{\n  \"name\": \"data\",\n  \"rows\": 1994,\n  \"fields\": [\n    {\n      \"column\": \"Index\",\n      \"properties\": {\n        \"dtype\": \"number\",\n        \"std\": 575,\n        \"min\": 1,\n        \"max\": 1994,\n        \"num_unique_values\": 1994,\n        \"samples\": [\n          890,\n          1673,\n          415\n        ],\n        \"semantic_type\": \"\",\n        \"description\": \"\"\n      }\n    },\n    {\n      \"column\": \"Title\",\n      \"properties\": {\n        \"dtype\": \"string\",\n        \"num_unique_values\": 1958,\n        \"samples\": [\n          \"You Don't Bring Me Flowers\",\n          \"All For Nothing\",\n          \"Driver's Seat\"\n        ],\n        \"semantic_type\": \"\",\n        \"description\": \"\"\n      }\n    },\n    {\n      \"column\": \"Artist\",\n      \"properties\": {\n        \"dtype\": \"category\",\n        \"num_unique_values\": 731,\n        \"samples\": [\n          \"The Mamas & The Papas\",\n          \"Guus Meeuwis\",\n          \"First Aid Kit\"\n        ],\n        \"semantic_type\": \"\",\n        \"description\": \"\"\n      }\n    },\n    {\n      \"column\": \"Top Genre\",\n      \"properties\": {\n        \"dtype\": \"category\",\n        \"num_unique_values\": 149,\n        \"samples\": [\n          \"g funk\",\n          \"dutch americana\",\n          \"classic soul\"\n        ],\n        \"semantic_type\": \"\",\n        \"description\": \"\"\n      }\n    },\n    {\n      \"column\": \"Year\",\n      \"properties\": {\n        \"dtype\": \"number\",\n        \"std\": 16,\n        \"min\": 1956,\n        \"max\": 2019,\n        \"num_unique_values\": 63,\n        \"samples\": [\n          1958,\n          1967,\n          2004\n        ],\n        \"semantic_type\": \"\",\n        \"description\": \"\"\n      }\n    },\n    {\n      \"column\": \"Beats Per Minute (BPM)\",\n      \"properties\": {\n        \"dtype\": \"number\",\n        \"std\": 28,\n        \"min\": 37,\n        \"max\": 206,\n        \"num_unique_values\": 145,\n        \"samples\": [\n          93,\n          206,\n          122\n        ],\n        \"semantic_type\": \"\",\n        \"description\": \"\"\n      }\n    },\n    {\n      \"column\": \"Energy\",\n      \"properties\": {\n        \"dtype\": \"number\",\n        \"std\": 22,\n        \"min\": 3,\n        \"max\": 100,\n        \"num_unique_values\": 98,\n        \"samples\": [\n          36,\n          35,\n          10\n        ],\n        \"semantic_type\": \"\",\n        \"description\": \"\"\n      }\n    },\n    {\n      \"column\": \"Danceability\",\n      \"properties\": {\n        \"dtype\": \"number\",\n        \"std\": 15,\n        \"min\": 10,\n        \"max\": 96,\n        \"num_unique_values\": 84,\n        \"samples\": [\n          17,\n          53,\n          24\n        ],\n        \"semantic_type\": \"\",\n        \"description\": \"\"\n      }\n    },\n    {\n      \"column\": \"Loudness (dB)\",\n      \"properties\": {\n        \"dtype\": \"number\",\n        \"std\": 3,\n        \"min\": -27,\n        \"max\": -2,\n        \"num_unique_values\": 23,\n        \"samples\": [\n          -15,\n          -2,\n          -14\n        ],\n        \"semantic_type\": \"\",\n        \"description\": \"\"\n      }\n    },\n    {\n      \"column\": \"Liveness\",\n      \"properties\": {\n        \"dtype\": \"number\",\n        \"std\": 16,\n        \"min\": 2,\n        \"max\": 99,\n        \"num_unique_values\": 94,\n        \"samples\": [\n          21,\n          5,\n          52\n        ],\n        \"semantic_type\": \"\",\n        \"description\": \"\"\n      }\n    },\n    {\n      \"column\": \"Valence\",\n      \"properties\": {\n        \"dtype\": \"number\",\n        \"std\": 24,\n        \"min\": 3,\n        \"max\": 99,\n        \"num_unique_values\": 97,\n        \"samples\": [\n          69,\n          63,\n          95\n        ],\n        \"semantic_type\": \"\",\n        \"description\": \"\"\n      }\n    },\n    {\n      \"column\": \"Length (Duration)\",\n      \"properties\": {\n        \"dtype\": \"category\",\n        \"num_unique_values\": 350,\n        \"samples\": [\n          \"194\",\n          \"703\",\n          \"406\"\n        ],\n        \"semantic_type\": \"\",\n        \"description\": \"\"\n      }\n    },\n    {\n      \"column\": \"Acousticness\",\n      \"properties\": {\n        \"dtype\": \"number\",\n        \"std\": 29,\n        \"min\": 0,\n        \"max\": 99,\n        \"num_unique_values\": 100,\n        \"samples\": [\n          23,\n          76,\n          85\n        ],\n        \"semantic_type\": \"\",\n        \"description\": \"\"\n      }\n    },\n    {\n      \"column\": \"Speechiness\",\n      \"properties\": {\n        \"dtype\": \"number\",\n        \"std\": 4,\n        \"min\": 2,\n        \"max\": 55,\n        \"num_unique_values\": 37,\n        \"samples\": [\n          13,\n          25,\n          2\n        ],\n        \"semantic_type\": \"\",\n        \"description\": \"\"\n      }\n    },\n    {\n      \"column\": \"Popularity\",\n      \"properties\": {\n        \"dtype\": \"number\",\n        \"std\": 14,\n        \"min\": 11,\n        \"max\": 100,\n        \"num_unique_values\": 81,\n        \"samples\": [\n          78,\n          71,\n          84\n        ],\n        \"semantic_type\": \"\",\n        \"description\": \"\"\n      }\n    }\n  ]\n}"
            }
          },
          "metadata": {},
          "execution_count": 128
        }
      ]
    },
    {
      "source": [
        "# @title Beats Per Minute (BPM)\n",
        "\n",
        "from matplotlib import pyplot as plt\n",
        "data['Beats Per Minute (BPM)'].plot(kind='hist', bins=20, title='Beats Per Minute (BPM)')\n",
        "plt.gca().spines[['top', 'right',]].set_visible(False)"
      ],
      "cell_type": "code",
      "execution_count": null,
      "outputs": [
        {
          "output_type": "display_data",
          "data": {
            "text/plain": [
              "<Figure size 640x480 with 1 Axes>"
            ],
            "image/png": "[encoded data removed]"
          },
          "metadata": {}
        }
      ],
      "metadata": {
        "id": "IuD5eA8n8nqD",
        "outputId": "84b49e48-0d88-4dbd-f7f4-a6587eb2f37b",
        "colab": {
          "base_uri": "https://localhost:8080/",
          "height": 452
        }
      }
    },
    {
      "cell_type": "code",
      "source": [
        "a = data.groupby(['Year'])['Title'].count().reset_index()"
      ],
      "metadata": {
        "id": "U4PhUIlK6eid"
      },
      "execution_count": null,
      "outputs": []
    },
    {
      "cell_type": "code",
      "source": [
        "import seaborn as sns\n",
        "sns.lineplot(x=a['Year'], y=a['Title'])"
      ],
      "metadata": {
        "id": "LOxgMYoI7bZm",
        "outputId": "68d7fb60-9d6a-4a71-950c-be30df78c493",
        "colab": {
          "base_uri": "https://localhost:8080/",
          "height": 466
        }
      },
      "execution_count": null,
      "outputs": [
        {
          "output_type": "execute_result",
          "data": {
            "text/plain": [
              "<Axes: xlabel='Year', ylabel='Title'>"
            ]
          },
          "metadata": {},
          "execution_count": 130
        },
        {
          "output_type": "display_data",
          "data": {
            "text/plain": [
              "<Figure size 640x480 with 1 Axes>"
            ],
            "image/png": "[encoded data removed]"
          },
          "metadata": {}
        }
      ]
    },
    {
      "cell_type": "code",
      "source": [
        "!git --version"
      ],
      "metadata": {
        "id": "2v364r607MKD",
        "outputId": "bc5e9501-e4af-4c3d-d0cc-3afe2aea0edc",
        "colab": {
          "base_uri": "https://localhost:8080/"
        }
      },
      "execution_count": null,
      "outputs": [
        {
          "output_type": "stream",
          "name": "stdout",
          "text": [
            "git version 2.34.1\n"
          ]
        }
      ]
    }
  ]
}